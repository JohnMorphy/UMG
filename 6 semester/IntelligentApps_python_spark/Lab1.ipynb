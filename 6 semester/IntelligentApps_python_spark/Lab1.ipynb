{
 "cells": [
  {
   "cell_type": "code",
   "execution_count": 1,
   "id": "7419ac60-9fb9-4619-ac26-92d82a38f87b",
   "metadata": {},
   "outputs": [
    {
     "name": "stdout",
     "output_type": "stream",
     "text": [
      "[1, 2, 3, 4, 5, 6, 7, 8, 9, 10, 11, 12, 13, 14, 15, 16, 17, 18, 19, 20]\n"
     ]
    }
   ],
   "source": [
    "print(list(range(1,21)))"
   ]
  },
  {
   "cell_type": "code",
   "execution_count": 2,
   "id": "319c27eb-c0e7-41c2-896f-0d70044e89e5",
   "metadata": {},
   "outputs": [
    {
     "name": "stdout",
     "output_type": "stream",
     "text": [
      "False\n",
      "False\n"
     ]
    }
   ],
   "source": [
    "def divisableBy2(n):\n",
    "    if(n%2==0): return True\n",
    "    return False\n",
    "\n",
    "\n",
    "print(divisableBy2(11))\n",
    "\n",
    "divisableLambda = lambda n: n%2==0\n",
    "print(divisableLambda(11))\n"
   ]
  },
  {
   "cell_type": "code",
   "execution_count": 3,
   "id": "add4fed1-bd5a-4d2f-8913-2208dba6ecfd",
   "metadata": {},
   "outputs": [
    {
     "name": "stdout",
     "output_type": "stream",
     "text": [
      "4\n"
     ]
    }
   ],
   "source": [
    "import random\n",
    "print(random.randint(1,21))"
   ]
  },
  {
   "cell_type": "code",
   "execution_count": 11,
   "id": "e43f4ae4-1df0-4633-b7d8-aed6066bf319",
   "metadata": {
    "tags": []
   },
   "outputs": [
    {
     "name": "stdout",
     "output_type": "stream",
     "text": [
      "[2, 3, 8, 7]\n",
      "[90, 12, 36]\n"
     ]
    }
   ],
   "source": [
    "ls=[2,-3,-4,3,-9,8,-1,7]\n",
    "print(list(filter(lambda n:n>0,ls)))\n",
    "print(list(filter(lambda n:n%3==0,map(lambda n:random.randint(1,100),range(1,10)))))"
   ]
  },
  {
   "cell_type": "code",
   "execution_count": 14,
   "id": "cc7094fe-5349-4c22-8e51-0a852172fc3f",
   "metadata": {},
   "outputs": [
    {
     "name": "stdout",
     "output_type": "stream",
     "text": [
      "[3, 2, 3, 3, 3]\n",
      "14\n"
     ]
    }
   ],
   "source": [
    "import functools as fun\n",
    "ls=list(map(lambda n:random.randint(1,3),range(1,6)))\n",
    "print(ls)\n",
    "suma = fun.reduce(lambda a,b: a+b, ls)\n",
    "print(suma)"
   ]
  },
  {
   "cell_type": "code",
   "execution_count": 22,
   "id": "d70561a6-72fa-48a1-a208-4a518c1e6797",
   "metadata": {},
   "outputs": [
    {
     "name": "stdout",
     "output_type": "stream",
     "text": [
      "[96, 36, 94, 13, 88, 46, 33, 14, 35]\n",
      "[100, 38, 46, 24, 26, 46, 72, 6, 38]\n"
     ]
    }
   ],
   "source": [
    "#zad 1\n",
    "\n",
    "import functools as fun\n",
    "\n",
    "def losowe(k):\n",
    "    return list(map(lambda n:random.randint(0,100),range(1,k)))\n",
    "\n",
    "def losowe_mod2(k):\n",
    "    return list(map(lambda n:random.randint(1,50)*2,range(1,k)))\n",
    "\n",
    "\n",
    "print(losowe(10))\n",
    "print(losowe_mod2(10))"
   ]
  },
  {
   "cell_type": "code",
   "execution_count": 23,
   "id": "59a80a52-3743-493e-a8bc-93b6fa0cba50",
   "metadata": {},
   "outputs": [
    {
     "name": "stdout",
     "output_type": "stream",
     "text": [
      "True\n",
      "True\n",
      "False\n",
      "False\n"
     ]
    }
   ],
   "source": [
    "#zad2\n",
    "\n",
    "def isIntegral(n):\n",
    "    return n%1==0\n",
    "\n",
    "print(isIntegral(-100))\n",
    "print(isIntegral(0))\n",
    "print(isIntegral(0.5))\n",
    "print(isIntegral(-0.1))"
   ]
  },
  {
   "cell_type": "code",
   "execution_count": 35,
   "id": "f459ed16-d6eb-49f9-a2fc-3b48fcb0a1c7",
   "metadata": {},
   "outputs": [
    {
     "name": "stdout",
     "output_type": "stream",
     "text": [
      "[1, 3, 7, 10, 10, 7, 9, 5, 10, 2, 5, 9, 6, 4, 9, 6, 2, 4, 7]\n",
      "[3, 4, 4, 1, 10, 7, 6, 9, 1, 8, 5, 9, 7, 2, 6, 4, 6, 7, 4]\n",
      "[0.3333333333333333, 0.75, 1.75, 10.0, 1.0, 1.0, 1.5, 0.5555555555555556, 10.0, 0.25, 1.0, 1.0, 0.8571428571428571, 2.0, 1.5, 1.5, 0.3333333333333333, 0.5714285714285714, 1.75]\n",
      "[10.0, 1.0, 1.0, 10.0, 1.0, 1.0, 2.0]\n"
     ]
    }
   ],
   "source": [
    "#zad3\n",
    "import functools as fun\n",
    "\n",
    "def listOperations():\n",
    "    ls1 = list(map(lambda n:random.randint(1,10),range(1,20)))\n",
    "    print(ls1)\n",
    "    ls2 = list(map(lambda n:random.randint(1,10),range(1,20)))\n",
    "    print(ls2)\n",
    "    ls3 = list(map(lambda a,b: a/b,ls1,ls2))\n",
    "    print(ls3)\n",
    "    print(list(filter(lambda n:n%1==0,ls3)))\n",
    "    \n",
    "listOperations()"
   ]
  },
  {
   "cell_type": "code",
   "execution_count": 36,
   "id": "529f3ffa-f475-45b8-aa62-6e83231c827f",
   "metadata": {},
   "outputs": [
    {
     "name": "stdout",
     "output_type": "stream",
     "text": [
      "[28, 28, 21, 21, 42, 21, 35, 21, 35, 35, 42]\n"
     ]
    }
   ],
   "source": [
    "#zad4\n",
    "\n",
    "def divisibleBy7():\n",
    "    ls1 = list(map(lambda n:random.randint(1,50),range(1,100)))\n",
    "    print(list(filter(lambda n:n%7==0,ls1)))\n",
    "    \n",
    "divisibleBy7()"
   ]
  },
  {
   "cell_type": "code",
   "execution_count": 41,
   "id": "ec05e199-5c9b-4239-90a3-ecea54283454",
   "metadata": {},
   "outputs": [
    {
     "name": "stdout",
     "output_type": "stream",
     "text": [
      "[0.0, 0.16666666666666666, 0.2222222222222222, 0.25, 0.26666666666666666, 0.2777777777777778, 0.2857142857142857, 0.2916666666666667, 0.2962962962962963]\n"
     ]
    }
   ],
   "source": [
    "#zad5\n",
    "\n",
    "def function(n):\n",
    "    print(list(map(lambda n:(n-1)/(n*3),range(1,n))))\n",
    "          \n",
    "function(10)"
   ]
  },
  {
   "cell_type": "code",
   "execution_count": 51,
   "id": "92492ea9-fdb5-49c6-aed3-72fd0dd03eab",
   "metadata": {},
   "outputs": [
    {
     "name": "stdout",
     "output_type": "stream",
     "text": [
      "[-1, -2, -3, -4, -5, -6, -7, -8, -9, -10]\n",
      "[0.5, 0.3333333333333333, 0.25, 0.2, 0.16666666666666666, 0.14285714285714285, 0.125, 0.1111111111111111, 0.1]\n",
      "[1, -2, 3, -4, 5, -6, 7, -8, 9, -10]\n"
     ]
    }
   ],
   "source": [
    "#zad6\n",
    "\n",
    "def ujemne(n):\n",
    "    print(list(map(lambda n:-n,range(1,n+1))))\n",
    "\n",
    "def fractions(n):\n",
    "    print(list(map(lambda n:1/(n+1),range(1,n))))\n",
    "\n",
    "def alternatingSign(n):\n",
    "    print(list(map(lambda n:-n if n % 2 == 0 else n,range(1,n+1))))\n",
    "    \n",
    "ujemne(10)\n",
    "fractions(10)\n",
    "alternatingSign(10)"
   ]
  },
  {
   "cell_type": "code",
   "execution_count": 1,
   "id": "a578fcc3-d251-42e9-9ff7-163237e7d227",
   "metadata": {},
   "outputs": [
    {
     "name": "stdout",
     "output_type": "stream",
     "text": [
      "[0.5, 0.3333333333333333, 0.25, 0.2, 0.16666666666666666, 0.14285714285714285, 0.125, 0.1111111111111111, 0.1, 0.09090909090909091, 0.08333333333333333, 0.07692307692307693, 0.07142857142857142, 0.06666666666666667, 0.0625, 0.058823529411764705]\n"
     ]
    }
   ],
   "source": [
    "#zad7\n",
    "\n",
    "def ujemne(n):\n",
    "    return -n\n",
    "\n",
    "def fractions(n):\n",
    "    return 1/(n+1)\n",
    "\n",
    "def alternatingSign(n):\n",
    "    return -n if n % 2 == 0 else n\n",
    "\n",
    "def generateList(n, func):\n",
    "    return list(map(lambda n:func(n),range(1,n+1)))\n",
    "\n",
    "print(generateList(16, fractions))"
   ]
  },
  {
   "cell_type": "code",
   "execution_count": 6,
   "id": "957c038e-df16-41ae-807f-59bb43dec542",
   "metadata": {},
   "outputs": [
    {
     "name": "stdout",
     "output_type": "stream",
     "text": [
      "[[1, 2, 3]]\n",
      "[[1, 2, 3], [2, 3], [3], [5, 6], [5]]\n",
      "[[2, 3]]\n"
     ]
    }
   ],
   "source": [
    "#zad8\n",
    "\n",
    "lista = [[1,2,3],[2,3],[3],[],[5,6],[5]]\n",
    "\n",
    "def withKelements(k, lista):\n",
    "    return list(filter(lambda n:len(n)==k,lista))\n",
    "    \n",
    "def notEmpty(lista):\n",
    "    return list(filter(lambda n:len(n)>0,lista))\n",
    "\n",
    "def startFrom2(lista):\n",
    "    return list(filter(lambda n:len(n)>0 and n[0]==2,lista))\n",
    "\n",
    "print(withKelements(3,lista))\n",
    "print(notEmpty(lista))\n",
    "print(startFrom2(lista))"
   ]
  },
  {
   "cell_type": "code",
   "execution_count": 7,
   "id": "00fda3bc-ccd1-4fa9-b3d6-7d45f7ffff49",
   "metadata": {},
   "outputs": [
    {
     "name": "stdout",
     "output_type": "stream",
     "text": [
      "[('Alicja', 'Wejherowo', 23)]\n",
      "[('Anna', 'Gdynia', 23), ('Tomek', 'Gdynia', 35)]\n",
      "[('Anna', 'Gdynia', 23), ('Alicja', 'Wejherowo', 23), ('Tomek', 'Gdynia', 35), ('Wojtek', 'Tczew', 27)]\n"
     ]
    }
   ],
   "source": [
    "#zad9\n",
    "\n",
    "dane = [(\"Marta\", \"Sopot\", 13), (\"Anna\", \"Gdynia\", 23),\n",
    "        (\"Alicja\", \"Wejherowo\", 23), (\"Tomek\", \"Gdynia\", 35),\n",
    "        (\"Wojtek\", \"Tczew\", 27), (\"Dominik\",\"Sopot\",8)]\n",
    "\n",
    "def alicja(lista):\n",
    "    return list(filter(lambda n:n[0]==\"Alicja\",lista))\n",
    "\n",
    "def fromGdynia(lista):\n",
    "    return list(filter(lambda n:n[1]==\"Gdynia\",lista))\n",
    " \n",
    "def olderThan15(lista):\n",
    "    return list(filter(lambda n:n[2]>15,lista))\n",
    "\n",
    "print(alicja(dane))\n",
    "print(fromGdynia(dane))\n",
    "print(olderThan15(dane))"
   ]
  },
  {
   "cell_type": "code",
   "execution_count": 4,
   "id": "b80160d2-bdf6-47fd-9214-7d8aa29d59aa",
   "metadata": {},
   "outputs": [
    {
     "name": "stdout",
     "output_type": "stream",
     "text": [
      "('Tomek', 'Gdynia', 35)\n",
      "21.5\n"
     ]
    }
   ],
   "source": [
    "#zad10\n",
    "\n",
    "import functools as fun\n",
    "\n",
    "dane = [(\"Marta\", \"Sopot\", 13), (\"Anna\", \"Gdynia\", 23),\n",
    "        (\"Alicja\", \"Wejherowo\", 23), (\"Tomek\", \"Gdynia\", 35),\n",
    "        (\"Wojtek\", \"Tczew\", 27), (\"Dominik\",\"Sopot\",8)]\n",
    "\n",
    "def oldest(lista):\n",
    "    return fun.reduce(lambda a,b:a if a[2]>b[2] else b,lista)\n",
    "\n",
    "def avgAge(lista):\n",
    "    return (fun.reduce(lambda a,b:a+b[2],lista,0))/len(lista)\n",
    "\n",
    "print(oldest(dane))\n",
    "print(avgAge(dane))"
   ]
  },
  {
   "cell_type": "code",
   "execution_count": 13,
   "id": "7ca4ccbf-6a5b-401f-a86a-8d824b83a0c7",
   "metadata": {},
   "outputs": [
    {
     "name": "stdout",
     "output_type": "stream",
     "text": [
      "8\n"
     ]
    }
   ],
   "source": [
    "#zad 10\n",
    "\n",
    "def fib(n):\n",
    "    if n==1 or n==2:\n",
    "        print(1)\n",
    "        return 1\n",
    "    else:\n",
    "        print(f\n",
    "        return fib(n-1) + fib(n-2)\n",
    "\n",
    "print(fib(6))"
   ]
  },
  {
   "cell_type": "code",
   "execution_count": null,
   "id": "6b49b188-4a78-4012-a4c5-5a552a793efb",
   "metadata": {},
   "outputs": [],
   "source": []
  }
 ],
 "metadata": {
  "kernelspec": {
   "display_name": "Python 3 (ipykernel)",
   "language": "python",
   "name": "python3"
  },
  "language_info": {
   "codemirror_mode": {
    "name": "ipython",
    "version": 3
   },
   "file_extension": ".py",
   "mimetype": "text/x-python",
   "name": "python",
   "nbconvert_exporter": "python",
   "pygments_lexer": "ipython3",
   "version": "3.9.2"
  }
 },
 "nbformat": 4,
 "nbformat_minor": 5
}
