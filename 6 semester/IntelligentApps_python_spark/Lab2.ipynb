{
 "cells": [
  {
   "cell_type": "code",
   "execution_count": 2,
   "id": "03a55877-4e21-4f20-84a9-46ef881e8a46",
   "metadata": {},
   "outputs": [
    {
     "name": "stdout",
     "output_type": "stream",
     "text": [
      "[Ola Kowalska 5, Gdynia \n",
      ", Ela Śmigalska 34, Lublin \n",
      ", Michał Kowalski 23, Gdynia \n",
      ", Paweł Tokarski 31, Poznań \n",
      ", Michał Makowski 25, Gdynia \n",
      ", Ela Tkaczyk 28, Poznań \n",
      ", Paweł Mirecki 34, Lublin \n",
      ", Paweł Dobrocki 14, Gdynia \n",
      ", Weronika Kowalewska 19, Toruń \n",
      "]\n",
      "Paweł Tokarski 31, Poznań\n",
      "starsi >20\n",
      "[Ela Śmigalska 34, Lublin \n",
      ", Michał Kowalski 23, Gdynia \n",
      ", Paweł Tokarski 31, Poznań \n",
      ", Michał Makowski 25, Gdynia \n",
      ", Ela Tkaczyk 28, Poznań \n",
      ", Paweł Mirecki 34, Lublin \n",
      "]\n",
      "mlodsi <20\n",
      "[Ola Kowalska 5, Gdynia \n",
      ", Paweł Dobrocki 14, Gdynia \n",
      ", Weronika Kowalewska 19, Toruń \n",
      "]\n"
     ]
    }
   ],
   "source": [
    "#zad1\n",
    "\n",
    "class Osoba:\n",
    "  def __init__(self, imie, nazwisko, wiek, miasto):\n",
    "    self.imie = imie\n",
    "    self.nazwisko = nazwisko\n",
    "    self.wiek = wiek\n",
    "    self.miasto = miasto\n",
    "    \n",
    "  def __str__(self):\n",
    "    return f\"{self.imie} {self.nazwisko} {self.wiek}, {self.miasto}\"\n",
    "  \n",
    "  def __repr__(self):\n",
    "    return f\"{self.imie} {self.nazwisko} {self.wiek}, {self.miasto} \\n\"\n",
    "    \n",
    "    \n",
    "    \n",
    "lista = [Osoba(\"Ola\", \"Kowalska\", 5, \"Gdynia\"),\n",
    "Osoba(\"Ela\", \"Śmigalska\", 34, \"Lublin\"),\n",
    "Osoba(\"Michał\", \"Kowalski\", 23, \"Gdynia\"),\n",
    "Osoba(\"Paweł\", \"Tokarski\", 31, \"Poznań\"),\n",
    "Osoba(\"Michał\", \"Makowski\", 25, \"Gdynia\"),\n",
    "Osoba(\"Ela\", \"Tkaczyk\", 28, \"Poznań\"),\n",
    "Osoba(\"Paweł\", \"Mirecki\", 34, \"Lublin\"),\n",
    "Osoba(\"Paweł\", \"Dobrocki\", 14, \"Gdynia\"),\n",
    "Osoba(\"Weronika\",\"Kowalewska\",19,\"Toruń\")]\n",
    "\n",
    "print(lista)\n",
    "print(lista[3])\n",
    "print(\"starsi >20\")\n",
    "print(list(filter(lambda n:n.wiek>20,lista)))\n",
    "print(\"mlodsi <20\")\n",
    "print(list(filter(lambda n:n.wiek<20,lista)))\n"
   ]
  },
  {
   "cell_type": "code",
   "execution_count": 9,
   "id": "930ec239-758e-4480-ab6d-43c3375e1c19",
   "metadata": {},
   "outputs": [
    {
     "name": "stdout",
     "output_type": "stream",
     "text": [
      "[Kowalska, Kowalski, Makowski, Dobrocki]\n"
     ]
    }
   ],
   "source": [
    "#zad 1.1\n",
    "\n",
    "def zGdyni(lista):\n",
    "    return list(filter(lambda n:n.miasto == \"Gdynia\",lista))\n",
    "\n",
    "print(zGdyni(lista))"
   ]
  },
  {
   "cell_type": "code",
   "execution_count": 11,
   "id": "6ce595bf-5906-48f3-a3d8-6957289fbe33",
   "metadata": {},
   "outputs": [
    {
     "name": "stdout",
     "output_type": "stream",
     "text": [
      "[Mirecki, Tkaczyk, Tokarski, Śmigalska]\n"
     ]
    }
   ],
   "source": [
    "#zad 1.2\n",
    "\n",
    "def sortedOlderThan25(lista):\n",
    "    lista.sort(key=lambda x: x.nazwisko, reverse=False)\n",
    "    return list(filter(lambda n:n.wiek > 25,lista))\n",
    "\n",
    "print(sortedOlderThan25(lista))"
   ]
  },
  {
   "cell_type": "code",
   "execution_count": 25,
   "id": "e98e687d-ad44-4bcf-96e2-0049d60ae9e6",
   "metadata": {},
   "outputs": [
    {
     "name": "stdout",
     "output_type": "stream",
     "text": [
      "[Paweł Dobrocki 14, Gdynia \n",
      ", Weronika Kowalewska 19, Toruń \n",
      ", Michał Kowalski 23, Gdynia \n",
      ", Michał Makowski 25, Gdynia \n",
      ", Paweł Tokarski 31, Poznań \n",
      ", Paweł Mirecki 34, Lublin \n",
      "]\n"
     ]
    }
   ],
   "source": [
    "#zad 1.3\n",
    "\n",
    "def sortedByAge(lista):\n",
    "    lista.sort(key=lambda x: x.wiek, reverse=False)\n",
    "    return list(filter(lambda n:len(n.imie) > 3,lista))\n",
    "\n",
    "print(sortedByAge(lista))"
   ]
  },
  {
   "cell_type": "code",
   "execution_count": 28,
   "id": "5d0d12e7-3054-420f-ae56-80473cbdab3c",
   "metadata": {},
   "outputs": [
    {
     "name": "stdout",
     "output_type": "stream",
     "text": [
      "29.5\n"
     ]
    }
   ],
   "source": [
    "#zad 1.4\n",
    "\n",
    "import functools as fun\n",
    "\n",
    "def avgPoznan(lista):\n",
    "    pomocnicza = list(filter(lambda n:n.miasto == \"Poznań\",lista))\n",
    "    return fun.reduce(lambda a,b: a+b.wiek, pomocnicza, 0)/len(pomocnicza)\n",
    "\n",
    "print(avgPoznan(lista))"
   ]
  },
  {
   "cell_type": "code",
   "execution_count": 32,
   "id": "b827d922-c166-472f-8ff5-db02380d405b",
   "metadata": {},
   "outputs": [
    {
     "name": "stdout",
     "output_type": "stream",
     "text": [
      "[('Gdynia', 4), ('Lublin', 2), ('Poznań', 2), ('Toruń', 1)]\n"
     ]
    }
   ],
   "source": [
    "#zad 1.5\n",
    "\n",
    "import functools as fun\n",
    "from itertools import groupby\n",
    "\n",
    "def grouped(lista):\n",
    "    return list(map(lambda x: (x[0], len(list(x[1]))), groupby(sorted(lista,key=lambda x:x.miasto), lambda x:x.miasto )))\n",
    "\n",
    "print(grouped(lista))"
   ]
  },
  {
   "cell_type": "code",
   "execution_count": 34,
   "id": "b7257903-dd97-4415-b0c1-cd90bba2d812",
   "metadata": {},
   "outputs": [
    {
     "name": "stdout",
     "output_type": "stream",
     "text": [
      "[('Ela', 2), ('Michał', 2), ('Ola', 1), ('Paweł', 3), ('Weronika', 1)]\n"
     ]
    }
   ],
   "source": [
    "#zad 1.6\n",
    "\n",
    "import functools as fun\n",
    "from itertools import groupby\n",
    "\n",
    "def groupedImiona(lista):\n",
    "    return list(\n",
    "        map(lambda x: (x[0], len(list(x[1]))), groupby(sorted(lista,key=lambda x:x.imie), lambda x:x.imie )))\n",
    "\n",
    "print(groupedImiona(lista))"
   ]
  },
  {
   "cell_type": "code",
   "execution_count": 35,
   "id": "758bccf5-5121-42a0-b55e-51512b10cbdb",
   "metadata": {},
   "outputs": [
    {
     "name": "stdout",
     "output_type": "stream",
     "text": [
      "[Ela Tkaczyk 28, Poznań \n",
      ", Ela Śmigalska 34, Lublin \n",
      "]\n"
     ]
    }
   ],
   "source": [
    "#zad 1.7\n",
    "\n",
    "def startsWithE(lista):\n",
    "    return list(list(filter(lambda n:n.imie[0] == \"E\",lista)))\n",
    "\n",
    "print(startsWithE(lista))"
   ]
  },
  {
   "cell_type": "code",
   "execution_count": 38,
   "id": "630bf7ba-9a89-4b2f-91ea-acac92b3de00",
   "metadata": {},
   "outputs": [
    {
     "name": "stdout",
     "output_type": "stream",
     "text": [
      "[Ola Kowalska 5, Gdynia \n",
      ", Weronika Kowalewska 19, Toruń \n",
      ", Michał Kowalski 23, Gdynia \n",
      ", Ela Śmigalska 34, Lublin \n",
      "]\n"
     ]
    }
   ],
   "source": [
    "#zad 1.8\n",
    "\n",
    "def containsLA(lista):\n",
    "    return list(list(filter(lambda n: \"al\" in n.nazwisko,lista)))\n",
    "\n",
    "print(containsLA(lista))"
   ]
  },
  {
   "cell_type": "code",
   "execution_count": 16,
   "id": "73cc55aa-7274-4cb5-88bb-1d15769501b2",
   "metadata": {},
   "outputs": [
    {
     "name": "stdout",
     "output_type": "stream",
     "text": [
      "['Gdynia', 'Lublin', 'Poznań', 'Toruń']\n"
     ]
    }
   ],
   "source": [
    "#zad 1.9\n",
    "\n",
    "def citySet(lista):\n",
    "    result = list(set(map(lambda n: n.miasto, lista)))\n",
    "    result.sort()\n",
    "    return result\n",
    "    \n",
    "\n",
    "print(citySet(lista))"
   ]
  },
  {
   "cell_type": "code",
   "execution_count": 3,
   "id": "e07ab12c-f6db-4fb1-96b2-1426981e90eb",
   "metadata": {},
   "outputs": [
    {
     "name": "stdout",
     "output_type": "stream",
     "text": [
      "34\n"
     ]
    }
   ],
   "source": [
    "#zad 1.10\n",
    "\n",
    "import functools as fun\n",
    "\n",
    "def oldest(lista):\n",
    "    return (fun.reduce(lambda a,b:a if a.wiek>b.wiek else b,lista)).wiek\n",
    "    \n",
    "\n",
    "print(oldest(lista))"
   ]
  }
 ],
 "metadata": {
  "kernelspec": {
   "display_name": "Python 3 (ipykernel)",
   "language": "python",
   "name": "python3"
  },
  "language_info": {
   "codemirror_mode": {
    "name": "ipython",
    "version": 3
   },
   "file_extension": ".py",
   "mimetype": "text/x-python",
   "name": "python",
   "nbconvert_exporter": "python",
   "pygments_lexer": "ipython3",
   "version": "3.10.7"
  }
 },
 "nbformat": 4,
 "nbformat_minor": 5
}
