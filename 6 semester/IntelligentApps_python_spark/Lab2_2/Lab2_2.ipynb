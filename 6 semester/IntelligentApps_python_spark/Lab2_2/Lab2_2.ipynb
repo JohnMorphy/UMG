{
 "cells": [
  {
   "cell_type": "code",
   "execution_count": 29,
   "id": "02049d55",
   "metadata": {},
   "outputs": [
    {
     "name": "stdout",
     "output_type": "stream",
     "text": [
      "32561\n"
     ]
    }
   ],
   "source": [
    "#zad2\n",
    "\n",
    "import Osoba\n",
    "\n",
    "def getPeopleList():\n",
    "    f = open('data.data', 'r')\n",
    "    lines = f.readlines()\n",
    "    valuesList = map(lambda line: line.strip().split(', '), filter(lambda line: line.strip(), lines))\n",
    "    peopleList = list(map(lambda values: Osoba.Osoba(values), valuesList))\n",
    "    f.close()\n",
    "    return peopleList\n",
    "\n",
    "peopleList = getPeopleList()\n",
    "print(len(peopleList))\n"
   ]
  },
  {
   "cell_type": "markdown",
   "id": "71bf6746",
   "metadata": {},
   "source": [
    "2.1. Lista kobiet pochodzących z Meksyku z wykształceniem HS-grad."
   ]
  },
  {
   "cell_type": "code",
   "execution_count": 31,
   "id": "7812c286",
   "metadata": {},
   "outputs": [
    {
     "name": "stdout",
     "output_type": "stream",
     "text": [
      "[{23, Mexico, HS-grad...}, {31, Mexico, HS-grad...}, {32, Mexico, HS-grad...}, {53, Mexico, HS-grad...}, {29, Mexico, HS-grad...}, {40, Mexico, HS-grad...}, {28, Mexico, HS-grad...}, {20, Mexico, HS-grad...}, {26, Mexico, HS-grad...}, {20, Mexico, HS-grad...}, {25, Mexico, HS-grad...}, {56, Mexico, HS-grad...}, {24, Mexico, HS-grad...}, {20, Mexico, HS-grad...}, {29, Mexico, HS-grad...}, {25, Mexico, HS-grad...}, {20, Mexico, HS-grad...}, {22, Mexico, HS-grad...}, {31, Mexico, HS-grad...}, {30, Mexico, HS-grad...}, {26, Mexico, HS-grad...}, {26, Mexico, HS-grad...}, {27, Mexico, HS-grad...}, {31, Mexico, HS-grad...}, {25, Mexico, HS-grad...}, {34, Mexico, HS-grad...}, {24, Mexico, HS-grad...}, {37, Mexico, HS-grad...}, {41, Mexico, HS-grad...}, {22, Mexico, HS-grad...}, {51, Mexico, HS-grad...}, {20, Mexico, HS-grad...}, {28, Mexico, HS-grad...}, {22, Mexico, HS-grad...}, {28, Mexico, HS-grad...}, {33, Mexico, HS-grad...}, {24, Mexico, HS-grad...}]\n"
     ]
    }
   ],
   "source": [
    "def mexicoWomanHs(lista):\n",
    "    return list(filter(lambda o:o.plec == \"Female\" and o.kraj == \"Mexico\" and o.wyksztalcenie == \"HS-grad\",lista))\n",
    "\n",
    "len(mexicoWomanHs(peopleList))\n",
    "print(mexicoWomanHs(peopleList))"
   ]
  },
  {
   "cell_type": "markdown",
   "id": "c336c189",
   "metadata": {},
   "source": [
    "2.2. Liczba osób, które wzięły udział w spisie z podziałem na kobiety i mężczyzn."
   ]
  },
  {
   "cell_type": "code",
   "execution_count": 34,
   "id": "4b4dfe96",
   "metadata": {},
   "outputs": [
    {
     "name": "stdout",
     "output_type": "stream",
     "text": [
      "[('Female', 10771), ('Male', 21790)]\n"
     ]
    }
   ],
   "source": [
    "from itertools import groupby\n",
    "\n",
    "def byGenders(lista):\n",
    "    return list(map(lambda x: (x[0], len(list(x[1]))), groupby(sorted(lista,key=lambda x:x.plec), lambda n:n.plec)))\n",
    "\n",
    "print(byGenders(peopleList))"
   ]
  },
  {
   "cell_type": "markdown",
   "id": "dfff0c28",
   "metadata": {},
   "source": [
    "\n",
    "2.3. Średni wiek osób Never-married o formie zatrudnienia Private."
   ]
  },
  {
   "cell_type": "code",
   "execution_count": 41,
   "id": "e458d5c9",
   "metadata": {},
   "outputs": [
    {
     "name": "stdout",
     "output_type": "stream",
     "text": [
      "Never-married privately employed count:  8186\n",
      "27.64769118006352\n"
     ]
    }
   ],
   "source": [
    "import functools as fun\n",
    "from itertools import groupby\n",
    "\n",
    "def avgAgeNeverMarriedPrivate(lista):\n",
    "    helper = list(filter(lambda n:n.stanCywilny == \"Never-married\" and n.formaZatrudnienia == \"Private\", lista))\n",
    "    print(\"Never-married privately employed count: \", len(helper))\n",
    "    return fun.reduce(lambda a,b:a + b.wiek, helper, 0)/len(helper)\n",
    "\n",
    "\n",
    "print(avgAgeNeverMarriedPrivate(peopleList))"
   ]
  },
  {
   "cell_type": "markdown",
   "id": "1baaf664",
   "metadata": {},
   "source": [
    "2.4. Liczba osób o wykształceniu liczbowo od 9 do 13 pracujących od 20 do 30 godzin\n",
    "tygodniowo pogrupowana według form zatrudnienia."
   ]
  },
  {
   "cell_type": "code",
   "execution_count": 43,
   "id": "e46eb65f",
   "metadata": {},
   "outputs": [
    {
     "name": "stdout",
     "output_type": "stream",
     "text": [
      "[('?', 321), ('Federal-gov', 28), ('Local-gov', 106), ('Private', 1871), ('Self-emp-inc', 48), ('Self-emp-not-inc', 223), ('State-gov', 87), ('Without-pay', 5)]\n"
     ]
    }
   ],
   "source": [
    "import functools as fun\n",
    "from itertools import groupby\n",
    "\n",
    "def fun24(lista):\n",
    "    helper = list(filter(lambda n:n.wyksztalcenieLiczbowo >= 9 and n.wyksztalcenieLiczbowo <= 13 and n.godzinyTygodniowo >= 20 and n.godzinyTygodniowo <= 30, lista))\n",
    "    return list(map(lambda x: (x[0], len(list(x[1]))), groupby(sorted(helper,key=lambda x:x.formaZatrudnienia), lambda n:n.formaZatrudnienia)))\n",
    "\n",
    "print(fun24(peopleList))"
   ]
  },
  {
   "cell_type": "markdown",
   "id": "efb89a56",
   "metadata": {},
   "source": [
    "2.5. Liczby osób z USA z takim samym wykształceniem"
   ]
  },
  {
   "cell_type": "code",
   "execution_count": 48,
   "id": "6c581251",
   "metadata": {},
   "outputs": [
    {
     "name": "stdout",
     "output_type": "stream",
     "text": [
      "[('10th', 848), ('11th', 1067), ('12th', 365), ('1st-4th', 46), ('5th-6th', 97), ('7th-8th', 499), ('9th', 395), ('Assoc-acdm', 982), ('Assoc-voc', 1289), ('Bachelors', 4766), ('Doctorate', 328), ('HS-grad', 9702), ('Masters', 1527), ('Preschool', 17), ('Prof-school', 502), ('Some-college', 6740)]\n"
     ]
    }
   ],
   "source": [
    "import functools as fun\n",
    "from itertools import groupby\n",
    "\n",
    "def fun25(lista):\n",
    "    helper = list(filter(lambda n:n.kraj == \"United-States\", lista))\n",
    "    return list(map(lambda x: (x[0], len(list(x[1]))), groupby(sorted(helper,key=lambda x:x.wyksztalcenie), lambda n:n.wyksztalcenie)))\n",
    "\n",
    "print(fun25(peopleList))"
   ]
  },
  {
   "cell_type": "markdown",
   "id": "774eaea4",
   "metadata": {},
   "source": [
    "2.6. Średnie liczby godzin przepracowywanych w tygodniu przez osoby ze stopniem\n",
    "Bachelors dla każdej z form zatrudnienia."
   ]
  },
  {
   "cell_type": "code",
   "execution_count": 64,
   "id": "5ede75e1",
   "metadata": {},
   "outputs": [
    {
     "ename": "ZeroDivisionError",
     "evalue": "division by zero",
     "output_type": "error",
     "traceback": [
      "\u001b[1;31m---------------------------------------------------------------------------\u001b[0m",
      "\u001b[1;31mZeroDivisionError\u001b[0m                         Traceback (most recent call last)",
      "Cell \u001b[1;32mIn[64], line 9\u001b[0m\n\u001b[0;32m      5\u001b[0m     helper \u001b[38;5;241m=\u001b[39m \u001b[38;5;28mlist\u001b[39m(\u001b[38;5;28mfilter\u001b[39m(\u001b[38;5;28;01mlambda\u001b[39;00m n: n\u001b[38;5;241m.\u001b[39mwyksztalcenie \u001b[38;5;241m==\u001b[39m \u001b[38;5;124m\"\u001b[39m\u001b[38;5;124mBachelors\u001b[39m\u001b[38;5;124m\"\u001b[39m, lista))\n\u001b[0;32m      6\u001b[0m     \u001b[38;5;28;01mreturn\u001b[39;00m \u001b[38;5;28mlist\u001b[39m(\u001b[38;5;28mmap\u001b[39m(\u001b[38;5;28;01mlambda\u001b[39;00m x: (x[\u001b[38;5;241m0\u001b[39m], fun\u001b[38;5;241m.\u001b[39mreduce(\u001b[38;5;28;01mlambda\u001b[39;00m a, b: a \u001b[38;5;241m+\u001b[39m b\u001b[38;5;241m.\u001b[39mgodzinyTygodniowo, x[\u001b[38;5;241m1\u001b[39m], \u001b[38;5;241m0\u001b[39m) \u001b[38;5;241m/\u001b[39m \u001b[38;5;28mlen\u001b[39m(\u001b[38;5;28mlist\u001b[39m(x[\u001b[38;5;241m1\u001b[39m]))), \n\u001b[0;32m      7\u001b[0m                     groupby(\u001b[38;5;28msorted\u001b[39m(helper, key\u001b[38;5;241m=\u001b[39m\u001b[38;5;28;01mlambda\u001b[39;00m x: x\u001b[38;5;241m.\u001b[39mformaZatrudnienia), \u001b[38;5;28;01mlambda\u001b[39;00m n: n\u001b[38;5;241m.\u001b[39mformaZatrudnienia)))\n\u001b[1;32m----> 9\u001b[0m \u001b[38;5;28mprint\u001b[39m(\u001b[43mfun26\u001b[49m\u001b[43m(\u001b[49m\u001b[43mpeopleList\u001b[49m\u001b[43m)\u001b[49m)\n",
      "Cell \u001b[1;32mIn[64], line 6\u001b[0m, in \u001b[0;36mfun26\u001b[1;34m(lista)\u001b[0m\n\u001b[0;32m      4\u001b[0m \u001b[38;5;28;01mdef\u001b[39;00m \u001b[38;5;21mfun26\u001b[39m(lista):\n\u001b[0;32m      5\u001b[0m     helper \u001b[38;5;241m=\u001b[39m \u001b[38;5;28mlist\u001b[39m(\u001b[38;5;28mfilter\u001b[39m(\u001b[38;5;28;01mlambda\u001b[39;00m n: n\u001b[38;5;241m.\u001b[39mwyksztalcenie \u001b[38;5;241m==\u001b[39m \u001b[38;5;124m\"\u001b[39m\u001b[38;5;124mBachelors\u001b[39m\u001b[38;5;124m\"\u001b[39m, lista))\n\u001b[1;32m----> 6\u001b[0m     \u001b[38;5;28;01mreturn\u001b[39;00m \u001b[38;5;28;43mlist\u001b[39;49m\u001b[43m(\u001b[49m\u001b[38;5;28;43mmap\u001b[39;49m\u001b[43m(\u001b[49m\u001b[38;5;28;43;01mlambda\u001b[39;49;00m\u001b[43m \u001b[49m\u001b[43mx\u001b[49m\u001b[43m:\u001b[49m\u001b[43m \u001b[49m\u001b[43m(\u001b[49m\u001b[43mx\u001b[49m\u001b[43m[\u001b[49m\u001b[38;5;241;43m0\u001b[39;49m\u001b[43m]\u001b[49m\u001b[43m,\u001b[49m\u001b[43m \u001b[49m\u001b[43mfun\u001b[49m\u001b[38;5;241;43m.\u001b[39;49m\u001b[43mreduce\u001b[49m\u001b[43m(\u001b[49m\u001b[38;5;28;43;01mlambda\u001b[39;49;00m\u001b[43m \u001b[49m\u001b[43ma\u001b[49m\u001b[43m,\u001b[49m\u001b[43m \u001b[49m\u001b[43mb\u001b[49m\u001b[43m:\u001b[49m\u001b[43m \u001b[49m\u001b[43ma\u001b[49m\u001b[43m \u001b[49m\u001b[38;5;241;43m+\u001b[39;49m\u001b[43m \u001b[49m\u001b[43mb\u001b[49m\u001b[38;5;241;43m.\u001b[39;49m\u001b[43mgodzinyTygodniowo\u001b[49m\u001b[43m,\u001b[49m\u001b[43m \u001b[49m\u001b[43mx\u001b[49m\u001b[43m[\u001b[49m\u001b[38;5;241;43m1\u001b[39;49m\u001b[43m]\u001b[49m\u001b[43m,\u001b[49m\u001b[43m \u001b[49m\u001b[38;5;241;43m0\u001b[39;49m\u001b[43m)\u001b[49m\u001b[43m \u001b[49m\u001b[38;5;241;43m/\u001b[39;49m\u001b[43m \u001b[49m\u001b[38;5;28;43mlen\u001b[39;49m\u001b[43m(\u001b[49m\u001b[38;5;28;43mlist\u001b[39;49m\u001b[43m(\u001b[49m\u001b[43mx\u001b[49m\u001b[43m[\u001b[49m\u001b[38;5;241;43m1\u001b[39;49m\u001b[43m]\u001b[49m\u001b[43m)\u001b[49m\u001b[43m)\u001b[49m\u001b[43m)\u001b[49m\u001b[43m,\u001b[49m\u001b[43m \u001b[49m\n\u001b[0;32m      7\u001b[0m \u001b[43m                    \u001b[49m\u001b[43mgroupby\u001b[49m\u001b[43m(\u001b[49m\u001b[38;5;28;43msorted\u001b[39;49m\u001b[43m(\u001b[49m\u001b[43mhelper\u001b[49m\u001b[43m,\u001b[49m\u001b[43m \u001b[49m\u001b[43mkey\u001b[49m\u001b[38;5;241;43m=\u001b[39;49m\u001b[38;5;28;43;01mlambda\u001b[39;49;00m\u001b[43m \u001b[49m\u001b[43mx\u001b[49m\u001b[43m:\u001b[49m\u001b[43m \u001b[49m\u001b[43mx\u001b[49m\u001b[38;5;241;43m.\u001b[39;49m\u001b[43mformaZatrudnienia\u001b[49m\u001b[43m)\u001b[49m\u001b[43m,\u001b[49m\u001b[43m \u001b[49m\u001b[38;5;28;43;01mlambda\u001b[39;49;00m\u001b[43m \u001b[49m\u001b[43mn\u001b[49m\u001b[43m:\u001b[49m\u001b[43m \u001b[49m\u001b[43mn\u001b[49m\u001b[38;5;241;43m.\u001b[39;49m\u001b[43mformaZatrudnienia\u001b[49m\u001b[43m)\u001b[49m\u001b[43m)\u001b[49m\u001b[43m)\u001b[49m\n",
      "Cell \u001b[1;32mIn[64], line 6\u001b[0m, in \u001b[0;36mfun26.<locals>.<lambda>\u001b[1;34m(x)\u001b[0m\n\u001b[0;32m      4\u001b[0m \u001b[38;5;28;01mdef\u001b[39;00m \u001b[38;5;21mfun26\u001b[39m(lista):\n\u001b[0;32m      5\u001b[0m     helper \u001b[38;5;241m=\u001b[39m \u001b[38;5;28mlist\u001b[39m(\u001b[38;5;28mfilter\u001b[39m(\u001b[38;5;28;01mlambda\u001b[39;00m n: n\u001b[38;5;241m.\u001b[39mwyksztalcenie \u001b[38;5;241m==\u001b[39m \u001b[38;5;124m\"\u001b[39m\u001b[38;5;124mBachelors\u001b[39m\u001b[38;5;124m\"\u001b[39m, lista))\n\u001b[1;32m----> 6\u001b[0m     \u001b[38;5;28;01mreturn\u001b[39;00m \u001b[38;5;28mlist\u001b[39m(\u001b[38;5;28mmap\u001b[39m(\u001b[38;5;28;01mlambda\u001b[39;00m x: (x[\u001b[38;5;241m0\u001b[39m], \u001b[43mfun\u001b[49m\u001b[38;5;241;43m.\u001b[39;49m\u001b[43mreduce\u001b[49m\u001b[43m(\u001b[49m\u001b[38;5;28;43;01mlambda\u001b[39;49;00m\u001b[43m \u001b[49m\u001b[43ma\u001b[49m\u001b[43m,\u001b[49m\u001b[43m \u001b[49m\u001b[43mb\u001b[49m\u001b[43m:\u001b[49m\u001b[43m \u001b[49m\u001b[43ma\u001b[49m\u001b[43m \u001b[49m\u001b[38;5;241;43m+\u001b[39;49m\u001b[43m \u001b[49m\u001b[43mb\u001b[49m\u001b[38;5;241;43m.\u001b[39;49m\u001b[43mgodzinyTygodniowo\u001b[49m\u001b[43m,\u001b[49m\u001b[43m \u001b[49m\u001b[43mx\u001b[49m\u001b[43m[\u001b[49m\u001b[38;5;241;43m1\u001b[39;49m\u001b[43m]\u001b[49m\u001b[43m,\u001b[49m\u001b[43m \u001b[49m\u001b[38;5;241;43m0\u001b[39;49m\u001b[43m)\u001b[49m\u001b[43m \u001b[49m\u001b[38;5;241;43m/\u001b[39;49m\u001b[43m \u001b[49m\u001b[38;5;28;43mlen\u001b[39;49m\u001b[43m(\u001b[49m\u001b[38;5;28;43mlist\u001b[39;49m\u001b[43m(\u001b[49m\u001b[43mx\u001b[49m\u001b[43m[\u001b[49m\u001b[38;5;241;43m1\u001b[39;49m\u001b[43m]\u001b[49m\u001b[43m)\u001b[49m\u001b[43m)\u001b[49m), \n\u001b[0;32m      7\u001b[0m                     groupby(\u001b[38;5;28msorted\u001b[39m(helper, key\u001b[38;5;241m=\u001b[39m\u001b[38;5;28;01mlambda\u001b[39;00m x: x\u001b[38;5;241m.\u001b[39mformaZatrudnienia), \u001b[38;5;28;01mlambda\u001b[39;00m n: n\u001b[38;5;241m.\u001b[39mformaZatrudnienia)))\n",
      "\u001b[1;31mZeroDivisionError\u001b[0m: division by zero"
     ]
    }
   ],
   "source": [
    "import functools as fun\n",
    "from itertools import groupby\n",
    "\n",
    "def fun26(lista):\n",
    "    helper = list(filter(lambda n: n.wyksztalcenie == \"Bachelors\", lista))\n",
    "    return list(map(lambda x: (x[0], fun.reduce(lambda a, b: a + b.godzinyTygodniowo, x[1], 0) / len(list(x[1]))), \n",
    "                    groupby(sorted(helper, key=lambda x: x.formaZatrudnienia), lambda n: n.formaZatrudnienia)))\n",
    "\n",
    "print(fun26(peopleList))\n"
   ]
  },
  {
   "cell_type": "markdown",
   "id": "135e5b03",
   "metadata": {},
   "source": [
    "2.7. Minimalny i maksymalny wiek osób pracujących w różnych grupach zawodowych."
   ]
  },
  {
   "cell_type": "code",
   "execution_count": null,
   "id": "ae2b571b",
   "metadata": {},
   "outputs": [],
   "source": []
  },
  {
   "cell_type": "markdown",
   "id": "0ab59c7b",
   "metadata": {},
   "source": [
    "2.8. Lista mężczyzn pochodzących z Kuby lub Jamajki z wykształceniem HS-grad."
   ]
  },
  {
   "cell_type": "code",
   "execution_count": null,
   "id": "6e0c324a",
   "metadata": {},
   "outputs": [],
   "source": []
  },
  {
   "cell_type": "markdown",
   "id": "1fa7c2f9",
   "metadata": {},
   "source": [
    "2.9. Liczba osób rozwiedzionych w wieku poniżej 30 lat z USA."
   ]
  },
  {
   "cell_type": "code",
   "execution_count": null,
   "id": "ab86e62d",
   "metadata": {},
   "outputs": [],
   "source": []
  },
  {
   "cell_type": "markdown",
   "id": "f99adea4",
   "metadata": {},
   "source": [
    "2.10. Liczby osób, które wzięły udział w spisie dla każdego poziomu wykształcenia."
   ]
  },
  {
   "cell_type": "code",
   "execution_count": null,
   "id": "364e0ce2",
   "metadata": {},
   "outputs": [],
   "source": []
  }
 ],
 "metadata": {
  "kernelspec": {
   "display_name": "Python 3 (ipykernel)",
   "language": "python",
   "name": "python3"
  },
  "language_info": {
   "codemirror_mode": {
    "name": "ipython",
    "version": 3
   },
   "file_extension": ".py",
   "mimetype": "text/x-python",
   "name": "python",
   "nbconvert_exporter": "python",
   "pygments_lexer": "ipython3",
   "version": "3.10.7"
  }
 },
 "nbformat": 4,
 "nbformat_minor": 5
}
