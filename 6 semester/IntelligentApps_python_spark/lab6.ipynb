{
 "cells": [
  {
   "cell_type": "code",
   "execution_count": 85,
   "metadata": {},
   "outputs": [
    {
     "name": "stdout",
     "output_type": "stream",
     "text": [
      "3.5.1\n"
     ]
    }
   ],
   "source": [
    "import findspark\n",
    "findspark.init()\n",
    "import pyspark\n",
    "from pyspark.sql import SparkSession\n",
    "spark = SparkSession.builder.getOrCreate()\n",
    "#sprawdzenie\n",
    "print(spark.version)\n",
    "\n",
    "from pyspark.sql.types import StructType, StructField, IntegerType, StringType\n",
    "\n",
    "#2\n",
    "\n",
    "struct_uad = StructType([ \n",
    "StructField('UserId', IntegerType(), True),\n",
    "StructField('ArtistId', IntegerType(), True),\n",
    "StructField('Plays', IntegerType(), True)])\n",
    "\n",
    "df_uad = spark.read.format(\"csv\").option(\"header\", \"false\") \\\n",
    ".option(\"delimiter\", \" \") \\\n",
    ".schema(struct_uad) \\\n",
    ".load(\"user_artist_data.txt\")\n",
    "\n",
    "#3\n",
    "struct_ad = StructType([ \n",
    "StructField('ArtistId', IntegerType(), True),\n",
    "StructField('ArtistName', StringType(), True)])\n",
    "\n",
    "df_ad = spark.read.format(\"csv\").option(\"header\", \"false\") \\\n",
    ".option(\"delimiter\", \"\\t\") \\\n",
    ".schema(struct_ad) \\\n",
    ".load(\"artist_data.txt\")"
   ]
  },
  {
   "cell_type": "code",
   "execution_count": 86,
   "metadata": {},
   "outputs": [
    {
     "name": "stdout",
     "output_type": "stream",
     "text": [
      "+-------+--------------------+-----+\n",
      "| UserId|          ArtistName|Plays|\n",
      "+-------+--------------------+-----+\n",
      "|1059637|           Aerosmith|  238|\n",
      "|1059637|     Edna's Goldfish|    1|\n",
      "|1059637|The Mighty Mighty...|    1|\n",
      "|1059637|        Foo Fighters|   11|\n",
      "|1059637|  The Bouncing Souls|    1|\n",
      "|1059637|       Alkaline Trio|  423|\n",
      "|1059637|         The Beatles|    5|\n",
      "|1059637|           Pennywise|    2|\n",
      "|1059637|             Incubus|    2|\n",
      "|1059637|         Bright Eyes|19129|\n",
      "+-------+--------------------+-----+\n",
      "only showing top 10 rows\n",
      "\n"
     ]
    }
   ],
   "source": [
    "#4\n",
    "\n",
    "df_uad.join(df_ad, 'ArtistId').select(df_uad.UserId, df_ad.ArtistName, df_uad.Plays).show(10)"
   ]
  },
  {
   "cell_type": "code",
   "execution_count": 87,
   "metadata": {},
   "outputs": [
    {
     "name": "stdout",
     "output_type": "stream",
     "text": [
      "2147483648\n",
      "+-------+------------------+------------------+------------------+\n",
      "|summary|            UserId|          ArtistId|             Plays|\n",
      "+-------+------------------+------------------+------------------+\n",
      "|  count|             49481|             49481|             49481|\n",
      "|   mean|1328420.1949435137|2003155.0297285826|130.57579677047755|\n",
      "| stddev| 452991.3131262286|2489609.3644763026|3034.3847545693047|\n",
      "|    min|           1000647|                 1|                 1|\n",
      "|    25%|           1024631|           1004015|                 2|\n",
      "|    50%|           1059245|           1055553|                 7|\n",
      "|    75%|           2010008|           1313001|                37|\n",
      "|    max|           2288164|          10788218|            439771|\n",
      "+-------+------------------+------------------+------------------+\n",
      "\n"
     ]
    }
   ],
   "source": [
    "#5\n",
    "print(pow(2,31))\n",
    "df_uad.summary().show()\n"
   ]
  },
  {
   "cell_type": "code",
   "execution_count": 88,
   "metadata": {},
   "outputs": [
    {
     "name": "stdout",
     "output_type": "stream",
     "text": [
      "9929\n",
      "39552\n"
     ]
    }
   ],
   "source": [
    "#6\n",
    "[df_train, df_test] = df_uad.randomSplit([0.8, 0.2])\n",
    "print(df_test.count())\n",
    "print(df_train.count())"
   ]
  },
  {
   "cell_type": "code",
   "execution_count": 89,
   "metadata": {},
   "outputs": [],
   "source": [
    "#7\n",
    "\n",
    "from pyspark.ml.recommendation import ALS\n",
    "\n",
    "als = ALS( \\\n",
    "seed=327, \\\n",
    "implicitPrefs=True, \\\n",
    "rank = 10, \\\n",
    "maxIter = 5, \\\n",
    "userCol=\"UserId\", \\\n",
    "itemCol=\"ArtistId\", \\\n",
    "ratingCol=\"Plays\", \\\n",
    ")\n",
    "model = als.fit(df_train)\n"
   ]
  },
  {
   "cell_type": "code",
   "execution_count": 90,
   "metadata": {},
   "outputs": [],
   "source": [
    "#8\n",
    "\n",
    "model.setColdStartStrategy(\"drop\")\n",
    "df_predictions= model.transform(df_test)"
   ]
  },
  {
   "cell_type": "code",
   "execution_count": 91,
   "metadata": {},
   "outputs": [
    {
     "name": "stdout",
     "output_type": "stream",
     "text": [
      "+-------+------------------------------------------------------------------------------------------------------------------------------------------------------------------------------------------------------------------+\n",
      "| UserId|                                                                                                                                                                                                   recommendations|\n",
      "+-------+------------------------------------------------------------------------------------------------------------------------------------------------------------------------------------------------------------------+\n",
      "|1001440|[{1001412, 2.733694}, {1028270, 2.4042463}, {1002840, 2.4000485}, {1004226, 2.3963218}, {1259, 2.2687557}, {1004294, 2.1116188}, {1004296, 2.0002396}, {1004484, 1.8663117}, {4496, 1.7934595}, {3111, 1.7176604}]|\n",
      "|1021940|    [{831, 1.7581882}, {1182660, 1.7393873}, {1003727, 1.7343948}, {234, 1.6247395}, {1233196, 1.6094174}, {1002128, 1.6015642}, {2115, 1.5743575}, {1058104, 1.5436983}, {1784, 1.5355685}, {1004536, 1.5306802}]|\n",
      "|2005710|       [{4061, 2.3849185}, {1002728, 2.162689}, {1004296, 1.9347508}, {1330, 1.9343288}, {1002704, 1.8950487}, {1002840, 1.7199385}, {831, 1.7144955}, {1000570, 1.6730199}, {1000427, 1.6716782}, {2, 1.6647705}]|\n",
      "|1058890|      [{3327, 1.8142865}, {744, 1.7415849}, {754, 1.6817799}, {1004440, 1.6813236}, {1007735, 1.6776919}, {1028270, 1.638805}, {1006123, 1.5357604}, {242, 1.5217612}, {1233196, 1.5153816}, {1000508, 1.4883064}]|\n",
      "|1017610| [{1001412, 2.8090088}, {1008337, 1.8683553}, {2, 1.7785255}, {1000427, 1.7355419}, {121, 1.679891}, {1001482, 1.6596156}, {1345608, 1.6442518}, {1000498, 1.6228808}, {1000052, 1.6104461}, {1000445, 1.5717022}]|\n",
      "+-------+------------------------------------------------------------------------------------------------------------------------------------------------------------------------------------------------------------------+\n",
      "only showing top 5 rows\n",
      "\n"
     ]
    }
   ],
   "source": [
    "#9\n",
    "\n",
    "rec4user10 = model.recommendForAllUsers(10)\n",
    "rec4user10.show(5,250)"
   ]
  },
  {
   "cell_type": "code",
   "execution_count": 92,
   "metadata": {},
   "outputs": [
    {
     "name": "stdout",
     "output_type": "stream",
     "text": [
      "+-------+\n",
      "| UserId|\n",
      "+-------+\n",
      "|1059637|\n",
      "|2007381|\n",
      "+-------+\n",
      "\n",
      "+-------+----------------------------------------------------------------------------------------------------+\n",
      "| UserId|                                                                                     recommendations|\n",
      "+-------+----------------------------------------------------------------------------------------------------+\n",
      "|2007381|[{1007735, 2.613232}, {1000139, 2.3941727}, {352, 2.377395}, {1009156, 2.263288}, {1205, 2.1499245}]|\n",
      "|1059637|  [{4371, 1.9181359}, {1004226, 1.8840401}, {1, 1.7925165}, {1004484, 1.7697855}, {1854, 1.7184899}]|\n",
      "+-------+----------------------------------------------------------------------------------------------------+\n",
      "\n"
     ]
    }
   ],
   "source": [
    "#10\n",
    "\n",
    "usersId=[{'UserId':1059637},{'UserId':2007381}]\n",
    "df_uid=spark.createDataFrame(usersId)\n",
    "df_uid.show()\n",
    "\n",
    "rec42users5 = model.recommendForUserSubset(df_uid, 5)\n",
    "rec42users5.show(2,250)\n"
   ]
  },
  {
   "cell_type": "code",
   "execution_count": 101,
   "metadata": {},
   "outputs": [
    {
     "name": "stdout",
     "output_type": "stream",
     "text": [
      "+-------+\n",
      "| UserId|\n",
      "+-------+\n",
      "|1070932|\n",
      "+-------+\n",
      "\n",
      "+-------+-----------------------------------------------------------------------------------------------------------------------------------------------------------------------------------------------------------+\n",
      "| UserId|                                                                                                                                                                                            recommendations|\n",
      "+-------+-----------------------------------------------------------------------------------------------------------------------------------------------------------------------------------------------------------+\n",
      "|1070932|[{1004226, 2.4329066}, {4371, 2.4210553}, {1031866, 2.3644717}, {1004484, 2.2563534}, {1000323, 2.1171982}, {1854, 1.9409239}, {1, 1.82712}, {1044920, 1.6582981}, {1004162, 1.6431652}, {3111, 1.6365258}]|\n",
      "+-------+-----------------------------------------------------------------------------------------------------------------------------------------------------------------------------------------------------------+\n",
      "\n",
      "+-------+--------+---------+\n",
      "| UserId|ArtistId|   rating|\n",
      "+-------+--------+---------+\n",
      "|1070932| 1004226|2.4329066|\n",
      "|1070932|    4371|2.4210553|\n",
      "|1070932| 1031866|2.3644717|\n",
      "|1070932| 1004484|2.2563534|\n",
      "|1070932| 1000323|2.1171982|\n",
      "|1070932|    1854|1.9409239|\n",
      "|1070932|       1|  1.82712|\n",
      "|1070932| 1044920|1.6582981|\n",
      "|1070932| 1004162|1.6431652|\n",
      "|1070932|    3111|1.6365258|\n",
      "+-------+--------+---------+\n",
      "\n"
     ]
    }
   ],
   "source": [
    "#11\n",
    "from pyspark.sql.functions import explode\n",
    "\n",
    "usersId=[{'UserId':1070932}]\n",
    "df_uid=spark.createDataFrame(usersId)\n",
    "df_uid.show()\n",
    "\n",
    "rec42users1 = model.recommendForUserSubset(df_uid, 10)\n",
    "rec42users1.show(1,250)\n",
    "\n",
    "rec = rec42users1.withColumn(\"rec\", explode(\"recommendations\")).select(\"UserId\", \"rec.ArtistId\", \"rec.rating\")\n",
    "\n",
    "rec.show()\n"
   ]
  },
  {
   "cell_type": "code",
   "execution_count": 109,
   "metadata": {},
   "outputs": [
    {
     "ename": "AttributeError",
     "evalue": "'DataFrame' object has no attribute 'leftJoin'",
     "output_type": "error",
     "traceback": [
      "\u001b[1;31m---------------------------------------------------------------------------\u001b[0m",
      "\u001b[1;31mAttributeError\u001b[0m                            Traceback (most recent call last)",
      "Cell \u001b[1;32mIn[109], line 6\u001b[0m\n\u001b[0;32m      3\u001b[0m \u001b[38;5;28;01mfrom\u001b[39;00m \u001b[38;5;21;01mpyspark\u001b[39;00m\u001b[38;5;21;01m.\u001b[39;00m\u001b[38;5;21;01msql\u001b[39;00m\u001b[38;5;21;01m.\u001b[39;00m\u001b[38;5;21;01mfunctions\u001b[39;00m \u001b[38;5;28;01mimport\u001b[39;00m desc\n\u001b[0;32m      5\u001b[0m joinedList \u001b[38;5;241m=\u001b[39m rec\u001b[38;5;241m.\u001b[39mjoin(df_ad, \u001b[38;5;124m'\u001b[39m\u001b[38;5;124mArtistId\u001b[39m\u001b[38;5;124m'\u001b[39m)\u001b[38;5;241m.\u001b[39mselect(rec\u001b[38;5;241m.\u001b[39mUserId, rec\u001b[38;5;241m.\u001b[39mArtistId, rec\u001b[38;5;241m.\u001b[39mrating, df_ad\u001b[38;5;241m.\u001b[39mArtistName)\n\u001b[1;32m----> 6\u001b[0m joinedList2 \u001b[38;5;241m=\u001b[39m \u001b[43mjoinedList\u001b[49m\u001b[38;5;241;43m.\u001b[39;49m\u001b[43mleftJoin\u001b[49m(df_uad, \u001b[38;5;124m'\u001b[39m\u001b[38;5;124mArtistId\u001b[39m\u001b[38;5;124m'\u001b[39m)\u001b[38;5;241m.\u001b[39mselect(rec\u001b[38;5;241m.\u001b[39mUserId, rec\u001b[38;5;241m.\u001b[39mArtistId, rec\u001b[38;5;241m.\u001b[39mrating, df_ad\u001b[38;5;241m.\u001b[39mArtistName, df_uad\u001b[38;5;241m.\u001b[39mPlays)\n\u001b[0;32m      7\u001b[0m joinedList2\u001b[38;5;241m.\u001b[39mshow()\n\u001b[0;32m      9\u001b[0m df_uad\u001b[38;5;241m.\u001b[39mjoin(df_ad, \u001b[38;5;124m'\u001b[39m\u001b[38;5;124mArtistId\u001b[39m\u001b[38;5;124m'\u001b[39m) \\\n\u001b[0;32m     10\u001b[0m \u001b[38;5;241m.\u001b[39mselect(df_uad\u001b[38;5;241m.\u001b[39mUserId, df_ad\u001b[38;5;241m.\u001b[39mArtistName, df_uad\u001b[38;5;241m.\u001b[39mPlays) \\\n\u001b[0;32m     11\u001b[0m \u001b[38;5;241m.\u001b[39mwhere(df_uad\u001b[38;5;241m.\u001b[39mUserId \u001b[38;5;241m==\u001b[39m \u001b[38;5;124m\"\u001b[39m\u001b[38;5;124m1070932\u001b[39m\u001b[38;5;124m\"\u001b[39m)\u001b[38;5;241m.\u001b[39morderBy(df_uad\u001b[38;5;241m.\u001b[39mPlays\u001b[38;5;241m.\u001b[39mdesc())\u001b[38;5;241m.\u001b[39mshow()\n",
      "File \u001b[1;32mc:\\Python310\\lib\\site-packages\\pyspark\\sql\\dataframe.py:3127\u001b[0m, in \u001b[0;36mDataFrame.__getattr__\u001b[1;34m(self, name)\u001b[0m\n\u001b[0;32m   3094\u001b[0m \u001b[38;5;250m\u001b[39m\u001b[38;5;124;03m\"\"\"Returns the :class:`Column` denoted by ``name``.\u001b[39;00m\n\u001b[0;32m   3095\u001b[0m \n\u001b[0;32m   3096\u001b[0m \u001b[38;5;124;03m.. versionadded:: 1.3.0\u001b[39;00m\n\u001b[1;32m   (...)\u001b[0m\n\u001b[0;32m   3124\u001b[0m \u001b[38;5;124;03m+---+\u001b[39;00m\n\u001b[0;32m   3125\u001b[0m \u001b[38;5;124;03m\"\"\"\u001b[39;00m\n\u001b[0;32m   3126\u001b[0m \u001b[38;5;28;01mif\u001b[39;00m name \u001b[38;5;129;01mnot\u001b[39;00m \u001b[38;5;129;01min\u001b[39;00m \u001b[38;5;28mself\u001b[39m\u001b[38;5;241m.\u001b[39mcolumns:\n\u001b[1;32m-> 3127\u001b[0m     \u001b[38;5;28;01mraise\u001b[39;00m \u001b[38;5;167;01mAttributeError\u001b[39;00m(\n\u001b[0;32m   3128\u001b[0m         \u001b[38;5;124m\"\u001b[39m\u001b[38;5;124m'\u001b[39m\u001b[38;5;132;01m%s\u001b[39;00m\u001b[38;5;124m'\u001b[39m\u001b[38;5;124m object has no attribute \u001b[39m\u001b[38;5;124m'\u001b[39m\u001b[38;5;132;01m%s\u001b[39;00m\u001b[38;5;124m'\u001b[39m\u001b[38;5;124m\"\u001b[39m \u001b[38;5;241m%\u001b[39m (\u001b[38;5;28mself\u001b[39m\u001b[38;5;241m.\u001b[39m\u001b[38;5;18m__class__\u001b[39m\u001b[38;5;241m.\u001b[39m\u001b[38;5;18m__name__\u001b[39m, name)\n\u001b[0;32m   3129\u001b[0m     )\n\u001b[0;32m   3130\u001b[0m jc \u001b[38;5;241m=\u001b[39m \u001b[38;5;28mself\u001b[39m\u001b[38;5;241m.\u001b[39m_jdf\u001b[38;5;241m.\u001b[39mapply(name)\n\u001b[0;32m   3131\u001b[0m \u001b[38;5;28;01mreturn\u001b[39;00m Column(jc)\n",
      "\u001b[1;31mAttributeError\u001b[0m: 'DataFrame' object has no attribute 'leftJoin'"
     ]
    }
   ],
   "source": [
    "#12\n",
    "\n",
    "from pyspark.sql.functions import desc\n",
    "\n",
    "joinedList = rec.join(df_ad, 'ArtistId').select(rec.UserId, rec.ArtistId, rec.rating, df_ad.ArtistName)\n",
    "joinedList2 = joinedList.join(df_uad, 'ArtistId').select(rec.UserId, rec.ArtistId, rec.rating, df_ad.ArtistName, df_uad.Plays)\n",
    "joinedList2.show()\n",
    "\n",
    "df_uad.join(df_ad, 'ArtistId') \\\n",
    ".select(df_uad.UserId, df_ad.ArtistName, df_uad.Plays) \\\n",
    ".where(df_uad.UserId == \"1070932\").orderBy(df_uad.Plays.desc()).show()"
   ]
  }
 ],
 "metadata": {
  "kernelspec": {
   "display_name": "Python 3",
   "language": "python",
   "name": "python3"
  },
  "language_info": {
   "codemirror_mode": {
    "name": "ipython",
    "version": 3
   },
   "file_extension": ".py",
   "mimetype": "text/x-python",
   "name": "python",
   "nbconvert_exporter": "python",
   "pygments_lexer": "ipython3",
   "version": "3.10.7"
  }
 },
 "nbformat": 4,
 "nbformat_minor": 2
}
